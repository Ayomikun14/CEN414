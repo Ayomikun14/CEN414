{
 "cells": [
  {
   "cell_type": "code",
   "execution_count": 2,
   "metadata": {},
   "outputs": [
    {
     "data": {
      "text/plain": [
       "Hello world!"
      ]
     },
     "execution_count": 2,
     "metadata": {},
     "output_type": "execute_result"
    }
   ],
   "source": [
    "String helloWorld = \"Hello world!\";\n",
    "helloWorld"
   ]
  },
  {
   "cell_type": "code",
   "execution_count": 19,
   "metadata": {},
   "outputs": [],
   "source": [
    "class CUStudent {\n",
    "    char[] FirstName;\n",
    "    char[] LastName;\n",
    "    int Age;\n",
    "    float CGPA;\n",
    "    float chapelAttendance;   \n",
    "    \n",
    "public static void createstudent(){\n",
    "        //create a new student object\n",
    "\n",
    "}    \n",
    "public static void updatestudentdetails(){\n",
    "        //edit student details/attribute\n",
    "    \n",
    "}\n",
    "public static void updatechapelattendance(){\n",
    "        //do something\n",
    "}\n",
    "    \n",
    "}"
   ]
  },
  {
   "cell_type": "code",
   "execution_count": 1,
   "metadata": {},
   "outputs": [
    {
     "name": "stdout",
     "output_type": "stream",
     "text": [
      "Hello World\n"
     ]
    }
   ],
   "source": [
    "import java.awt.Font; // Statement 0 also called an import statement\n",
    "int a = 1; //Statement 1 also called a declaration\n",
    "System.out.println(\"Hello World\"); //Statement 2 also called a print line statement\n"
   ]
  },
  {
   "cell_type": "code",
   "execution_count": 5,
   "metadata": {},
   "outputs": [],
   "source": [
    "import java.awt.Graphics;\n",
    "import java.awt.Font;\n",
    "import java.awt.Color;\n",
    "\n",
    "public class HelloAgainApplet extends java.applet.Applet {\n",
    "Font f = new Font(\"TimesRoman\",Font.BOLD,36);\n",
    "    \n",
    "public static void main (String args¸]) {\n",
    "int count;//local variables\n",
    "String title;\n",
    "boolean isAsleep;\n",
    "\n",
    "}\n",
    "    \n",
    "public void paint(Graphics g) {// g is an instance of the object graphics\n",
    "g.setFont(f);\n",
    "g.setColor(Color.red);\n",
    "g.drawString(\"Hello again!\", 5, 50);\n",
    "}\n",
    "}"
   ]
  },
  {
   "cell_type": "code",
   "execution_count": null,
   "metadata": {},
   "outputs": [],
   "source": [
    "final float pi = 3.141592;\n",
    "final boolean debug = false;\n",
    "final int maxsize = 40000;\n"
   ]
  }
 ],
 "metadata": {
  "kernelspec": {
   "display_name": "Java",
   "language": "java",
   "name": "java"
  },
  "language_info": {
   "codemirror_mode": "java",
   "file_extension": ".jshell",
   "mimetype": "text/x-java-source",
   "name": "Java",
   "pygments_lexer": "java",
   "version": "15.0.1+9-18"
  }
 },
 "nbformat": 4,
 "nbformat_minor": 4
}
