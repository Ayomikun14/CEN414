{
 "cells": [
  {
   "cell_type": "code",
   "execution_count": 2,
   "metadata": {},
   "outputs": [
    {
     "data": {
      "text/plain": [
       "Hello world!"
      ]
     },
     "execution_count": 2,
     "metadata": {},
     "output_type": "execute_result"
    }
   ],
   "source": [
    "String helloWorld = \"Hello world!\";\n",
    "helloWorld"
   ]
  },
  {
   "cell_type": "code",
   "execution_count": 19,
   "metadata": {},
   "outputs": [],
   "source": [
    "class CUStudent {\n",
    "    char[] FirstName;\n",
    "    char[] LastName;\n",
    "    int Age;\n",
    "    float CGPA;\n",
    "    float chapelAttendance;   \n",
    "    \n",
    "public static void createstudent(){\n",
    "        //create a new student object\n",
    "\n",
    "}    \n",
    "public static void updatestudentdetails(){\n",
    "        //edit student details/attribute\n",
    "    \n",
    "}\n",
    "public static void updatechapelattendance(){\n",
    "        //do something\n",
    "}\n",
    "    \n",
    "}"
   ]
  },
  {
   "cell_type": "code",
   "execution_count": 1,
   "metadata": {},
   "outputs": [
    {
     "name": "stdout",
     "output_type": "stream",
     "text": [
      "Hello World\n"
     ]
    }
   ],
   "source": [
    "import java.awt.Font; // Statement 0 also called an import statement\n",
    "int a = 1; //Statement 1 also called a declaration\n",
    "System.out.println(\"Hello World\"); //Statement 2 also called a print line statement\n"
   ]
  },
  {
   "cell_type": "code",
   "execution_count": 14,
   "metadata": {},
   "outputs": [],
   "source": [
    "import java.awt.Graphics;\n",
    "import java.awt.Font;\n",
    "import java.awt.Color;\n",
    "\n",
    "\n",
    "public class HelloAgainApplet extends java.applet.Applet {\n",
    "Font f = new Font(\"TimesRoman\",Font.BOLD,36);\n",
    "    \n",
    "public static void main (String args[]) {\n",
    "int count;//local variables\n",
    "String title;\n",
    "boolean isAsleep;\n",
    "\n",
    "}\n",
    "    \n",
    "public void paint(Graphics g) {// g is an instance of the object graphics\n",
    "g.setFont(f);\n",
    "g.setColor(Color.red);\n",
    "g.drawString(\"Hello again!\", 5, 50);\n",
    "}\n",
    "}"
   ]
  },
  {
   "cell_type": "code",
   "execution_count": null,
   "metadata": {},
   "outputs": [],
   "source": [
    "final float pi = 3.141592;\n",
    "final boolean debug = false;\n",
    "final int maxsize = 40000;\n"
   ]
  },
  {
   "cell_type": "code",
   "execution_count": 10,
   "metadata": {},
   "outputs": [
    {
     "name": "stdout",
     "output_type": "stream",
     "text": [
      "The larger of x and y is =250\n",
      "The floor of 6.7 =6.0\n"
     ]
    }
   ],
   "source": [
    "double root = Math.sqrt(453.0);//Square root of 453\n",
    "double y = Math.floor(6.7);\n",
    "double yy = Math.random()\n",
    "double y = Math.ceiling(6.7);\n",
    "    \n",
    "int x = 250;\n",
    "int y = x%2;\n",
    "System.out.println(\"The larger of x and y is =\"+  Math.max(x,y)); //the larger number between X and Y\n",
    "System.out.println(\"The floor of 6.7 =\" +  Math.floor(6.7)); // least integer closest to 6.7\n"
   ]
  },
  {
   "cell_type": "code",
   "execution_count": 21,
   "metadata": {},
   "outputs": [],
   "source": [
    "import java.util.LinkedList;\n",
    "\n",
    "public class GetElementExample {\n",
    "    \n",
    " public static void main(String[] args) {\n",
    " \n",
    "    // Creating LinkedList of String Elements\n",
    "    LinkedList<String> linkedlist = new LinkedList<String>();\n",
    " \n",
    "    // Populating it with String values\n",
    "    linkedlist.add(\"AA\");\n",
    "    linkedlist.add(\"BB\");\n",
    "    linkedlist.add(\"CC\");\n",
    "    linkedlist.add(\"DD\");\n",
    "    linkedlist.add(\"EE\");\n",
    "\n",
    "    System.out.println(\"LinkedList Elements : \");\n",
    "    //get(i) returns element present at index i\n",
    "    for(int i=0; i < linkedlist.size(); i++){\n",
    "      System.out.println(\"Element at index \"+i+\" is: \"+linkedlist.get(i));\n",
    "    } \n",
    "     \n",
    "     // Set demonstration using HashSet \n",
    "        Set<String> Set = new HashSet<String>(); \n",
    "          \n",
    "        // Adding Elements   \n",
    "        Set.add(\"one\"); \n",
    "        Set.add(\"two\"); \n",
    "        Set.add(\"three\"); \n",
    "        Set.add(\"four\"); \n",
    "        Set.add(\"five\"); \n",
    "          \n",
    "        // Set follows unordered way.  \n",
    "        System.out.println(Set); \n",
    "     \n",
    "     \n",
    "     // Creating object for Map. \n",
    "        Map<Integer, String> map \n",
    "            = new HashMap<Integer, String>(); \n",
    "  \n",
    "        // Adding Elements using Map. \n",
    "        map.put(100, \"Amit\"); \n",
    "        map.put(101, \"Vijay\"); \n",
    "        map.put(102, \"Rahul\"); \n",
    "  \n",
    "        // Elements can traverse in any order \n",
    "        for (Map.Entry m : map.entrySet()) { \n",
    "            System.out.println(m.getKey() + \" \"\n",
    "                               + m.getValue()); \n",
    "        } \n",
    "     \n",
    "     \n",
    " }\n",
    "}\n"
   ]
  },
  {
   "cell_type": "code",
   "execution_count": 20,
   "metadata": {},
   "outputs": [
    {
     "name": "stdout",
     "output_type": "stream",
     "text": [
      "esther\n"
     ]
    }
   ],
   "source": [
    "public class HelloAgainApplet extends java.applet.Applet {\n",
    "}\n",
    "interface friend{\n",
    "    public void truefriend();\n",
    "    //public void knownenemy();\n",
    "    \n",
    "}\n",
    "class person implements friend{\n",
    "    public void truefriend(){\n",
    "         System.out.println(\"esther\");\n",
    "    }\n",
    "    public void main(String[] args) {\n",
    "        truefriend();\n",
    "        System.out.println(\" is a true friend!!\");\n",
    "    }\n",
    "    \n",
    "}\n",
    "person p = new person();\n",
    "p.truefriend();"
   ]
  },
  {
   "cell_type": "code",
   "execution_count": null,
   "metadata": {},
   "outputs": [],
   "source": []
  }
 ],
 "metadata": {
  "kernelspec": {
   "display_name": "Java",
   "language": "java",
   "name": "java"
  },
  "language_info": {
   "codemirror_mode": "java",
   "file_extension": ".jshell",
   "mimetype": "text/x-java-source",
   "name": "Java",
   "pygments_lexer": "java",
   "version": "15.0.1+9-18"
  }
 },
 "nbformat": 4,
 "nbformat_minor": 4
}
